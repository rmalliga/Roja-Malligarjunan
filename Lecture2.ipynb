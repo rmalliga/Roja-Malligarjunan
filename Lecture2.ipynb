{
 "cells": [
  {
   "cell_type": "markdown",
   "metadata": {},
   "source": [
    "# Lecture \\#2: Setting up your Development Environment"
   ]
  },
  {
   "cell_type": "markdown",
   "metadata": {},
   "source": [
    "Here is what I intend to cover today:\n",
    "\n",
    "* Python Basics\n",
    "* What is Interactive Python (IPython)?\n",
    "* What are IPython or Jupyter Notebooks?\n",
    "* How do I make my code available to others (git)?\n",
    "* What is GitHub?\n",
    "\n",
    "At the end of this process, I would like for each of you to be able to create an Jupyter Notebook locally on your computer, and then be able to allow anyone else to see it using the online Jupyter Notebook Viewer (https://nbviewer.jupyter.org/).\n",
    "\n",
    "This very same file we have on the screen now will make that journey.\n"
   ]
  },
  {
   "cell_type": "markdown",
   "metadata": {},
   "source": [
    "## Before you begin\n",
    "\n",
    "Things you'll need to do ahead of time:\n",
    "\n",
    "1. Create an account on [github.com](http://github.com)\n",
    "2. Install the [Anaconda Python distribution](https://www.continuum.io/downloads) \n",
    "3. Install git on your computer, which you can get [here](http://git-scm.com/)\n",
    "\n",
    "Some references that will be **very** helpful to ensure you understand what we are doing and how it all works:\n",
    "\n",
    "1. Git References\n",
    "    * What it is and what is it used for? \n",
    "        * [Official Documentation](https://git-scm.com/documentation), especially the first three videos on this page.\n",
    "        * [Official Git Tutorial](https://git-scm.com/docs/gittutorial), if you are already familiar with the command line interface to some other version control software and just need to get started.\n",
    "    * How does it work?\n",
    "        * [Visual, interactive explanation](http://www.wei-wang.com/ExplainGitWithD3/#): this is really valuable if you want to wrap your head around the basic of what's happening under the hood.\n",
    "        * [Git from the inside out](https://codewords.recurse.com/issues/two/git-from-the-inside-out): an in-depth discussion of how things really work under the hood.\n",
    "2. Python References\n",
    "    * Why Python and how is it useful for for Scientific Computing?\n",
    "        * First, a quick intro to [Python for Scientific Computing](http://nbviewer.ipython.org/github/jrjohansson/scientific-python-lectures/blob/master/Lecture-0-Scientific-Computing-with-Python.ipynb)\n",
    "        * Other cool sources:\n",
    "            * [SciPy lecture notes](http://www.scipy-lectures.org/): heavy focus on Python fundamentals.\n",
    "            * [Quantitative Economics with Python](http://lectures.quantecon.org/): the name says it all.\n",
    "            * Online Courses:\n",
    "                * [Introduction to Scientifi Python](https://web.stanford.edu/~arbenson/cme193.html) (Stanford)\n",
    "                * [Practical Data Science](http://datasciencecourse.org/) (CMU)\n",
    "                * [Computational Statistics in Python](http://people.duke.edu/~ccc14/sta-663/index.html) (Duke)\n",
    "    * How to use Python?\n",
    "        * Here's [a tutorial](http://nbviewer.ipython.org/github/jrjohansson/scientific-python-lectures/blob/master/Lecture-1-Introduction-to-Python-Programming.ipynb).\n",
    "        * Two libraries that we are going to be making extensive use of are numpy and matplotlib. The same person who wrote the tutorial above has tutorials for [numpy](http://nbviewer.ipython.org/github/jrjohansson/scientific-python-lectures/blob/master/Lecture-2-Numpy.ipynb) and [matplotlib](http://nbviewer.ipython.org/github/jrjohansson/scientific-python-lectures/blob/master/Lecture-4-Matplotlib.ipynb)\n",
    "    "
   ]
  },
  {
   "cell_type": "markdown",
   "metadata": {},
   "source": [
    "OK. Let's get you started."
   ]
  },
  {
   "cell_type": "markdown",
   "metadata": {},
   "source": [
    "## Cloning the course's git repository\n",
    "\n",
    "This file you are currently viewing is part of the course's git repository, which you can find here:\n",
    "\n",
    "[http://github.com/marioberges/F16-12-752/](http://github.com/marioberges/F16-12-752/)\n",
    "\n",
    "Since it is in a public repository, you should be able to clone that repository into your computer and edit each file locally. For that, you could either clone it using the command line interface to git, or a graphical user interface (whichever you installed on your computer if you chose to install git). From the command line, for instance, you would issue this command to clone it:\n",
    "\n",
    "```\n",
    "git clone http://github.com/marioberges/F16-12-752.git\n",
    "```"
   ]
  },
  {
   "cell_type": "markdown",
   "metadata": {},
   "source": [
    "Make sure that you can clone the repository into your computer by issuing that command.\n",
    "\n",
    "If you are successful, you will be able to see a new folder called `F16-12-752` inside the folder where you issued the command. A copy of this Jupyter Notebook file should be in there as well, and you can view it by opening an IPython Notebook Server as follows:\n",
    "\n",
    "```\n",
    "jupyter notebook\n",
    "```\n",
    "\n",
    "Just make sure you issue this last command on the corresponding folder."
   ]
  },
  {
   "cell_type": "markdown",
   "metadata": {},
   "source": [
    "# Creating and using your own repositories\n",
    "\n",
    "The steps we followed above were for cloning the course's official repository. However, you will want to repeat these steps for any other repository you may be interested in working with, especially the ones that you end up creating under your Github account. Thus, let's practice importing one of your repositories.\n",
    "\n",
    "Follow these steps:\n",
    "\n",
    "1. Head over to github.com and log in using your credentials.\n",
    "2. Create a new repository and name it whatever you like.\n",
    "3. At the end of the process you will be given a checkout string. Copy that.\n",
    "4. Use the checkout string to replace the one we used earlier that looked like this:\n",
    "    ```\n",
    "    git clone http://github.com/yourusername/yourrepository.git\n",
    "    ```\n",
    "5. Try issuing that command on your computer (obviously, replacing `yourusername` and `yourrepository` with the right information)\n",
    "6. If all goes well, you'll have your (empty) repository available for use in your computer."
   ]
  },
  {
   "cell_type": "markdown",
   "metadata": {},
   "source": [
    "Now it's time for you to practice some of your recently learned git skills. \n",
    "\n",
    "Create a new Jupyter notebook, making sure to place it inside the folder of the repository you just cloned. \n",
    "\n",
    "Add a couple of Python commands to it, or some comments, and save it.\n",
    "\n",
    "Now go back to the terminal and add, commit and push the changes to your repository:\n",
    "\n",
    "```\n",
    "git add yourfile.ipynb\n",
    "git commit -m \"Made my first commit\"\n",
    "git push origin master\n",
    "```\n",
    "\n",
    "If this worked, you should be able to see the file added to your repository by simply pointing your browser to:\n",
    "\n",
    "`http://github.com/yourusername/yourrepository`"
   ]
  },
  {
   "cell_type": "markdown",
   "metadata": {},
   "source": [
    "## Doing away with the terminal\n",
    "\n",
    "Because Jupyter can be used to issue commands to a shell, directly, you can avoid having to switch to a terminal screen if you want to. This means we could have performed all of the above git manipulation directly from this notebook. The trick is to create a *Code* cell (the default type of cells) in the Jupyter notebook and then issuing the commands preceded by a `!` sign, as follows:"
   ]
  },
  {
   "cell_type": "code",
   "execution_count": 1,
   "metadata": {
    "collapsed": false
   },
   "outputs": [
    {
     "name": "stdout",
     "output_type": "stream",
     "text": [
      "On branch master\r\n",
      "Your branch is up-to-date with 'origin/master'.\r\n",
      "Changes not staged for commit:\r\n",
      "  (use \"git add <file>...\" to update what will be committed)\r\n",
      "  (use \"git checkout -- <file>...\" to discard changes in working directory)\r\n",
      "\r\n",
      "\t\u001b[31mmodified:   data/surveyresults.csv\u001b[m\r\n",
      "\r\n",
      "Untracked files:\r\n",
      "  (use \"git add <file>...\" to include in what will be committed)\r\n",
      "\r\n",
      "\t\u001b[31mLecture5_Assignment2-2014-ReDo.ipynb\u001b[m\r\n",
      "\r\n",
      "no changes added to commit (use \"git add\" and/or \"git commit -a\")\r\n"
     ]
    }
   ],
   "source": [
    "!git status"
   ]
  },
  {
   "cell_type": "markdown",
   "metadata": {},
   "source": [
    "Try running the above cell and see what you get."
   ]
  },
  {
   "cell_type": "code",
   "execution_count": 2,
   "metadata": {
    "collapsed": false
   },
   "outputs": [],
   "source": [
    "import numpy as np\n",
    "import matplotlib.pyplot as plt\n",
    "%matplotlib inline"
   ]
  },
  {
   "cell_type": "code",
   "execution_count": 3,
   "metadata": {
    "collapsed": false
   },
   "outputs": [
    {
     "name": "stdout",
     "output_type": "stream",
     "text": [
      "data/surveyresults.csv: text/plain; charset=utf-16le\r\n"
     ]
    }
   ],
   "source": [
    "!file -I data/surveyresults.csv"
   ]
  },
  {
   "cell_type": "code",
   "execution_count": 4,
   "metadata": {
    "collapsed": true
   },
   "outputs": [],
   "source": [
    "!iconv -f utf-16le -t utf-8 < data/surveyresults.csv > data/surveyresults_fixed.csv"
   ]
  },
  {
   "cell_type": "code",
   "execution_count": 5,
   "metadata": {
    "collapsed": false
   },
   "outputs": [
    {
     "name": "stdout",
     "output_type": "stream",
     "text": [
      "data/surveyresults_fixed.csv: text/plain; charset=utf-8\r\n"
     ]
    }
   ],
   "source": [
    "!file -I data/surveyresults_fixed.csv"
   ]
  },
  {
   "cell_type": "code",
   "execution_count": 6,
   "metadata": {
    "collapsed": false
   },
   "outputs": [],
   "source": [
    "with open('data/surveyresults_fixed.csv') as f:\n",
    "    contents = f.readlines()"
   ]
  },
  {
   "cell_type": "code",
   "execution_count": 7,
   "metadata": {
    "collapsed": false
   },
   "outputs": [
    {
     "data": {
      "text/plain": [
       "29"
      ]
     },
     "execution_count": 7,
     "metadata": {},
     "output_type": "execute_result"
    }
   ],
   "source": [
    "len(contents)"
   ]
  },
  {
   "cell_type": "code",
   "execution_count": 8,
   "metadata": {
    "collapsed": false
   },
   "outputs": [
    {
     "name": "stdout",
     "output_type": "stream",
     "text": [
      "sing platform\"\n",
      "\n",
      "\"4,6,13,11,21\"\n",
      "\n",
      "\"\"14\"\",\"\"25\"\"\"\n",
      "\n",
      "\",\"3,2,7,8,15\"\n",
      "\n",
      "14,11,15,7,20\"\n",
      "\n",
      "5,15,16,18,38\"\n",
      "\n",
      ",\"7,18,8,21,1\"\n",
      "\n",
      "\",\"8,1,2,12,5\"\n",
      "\n",
      ",\"13,12,9,3,2\"\n",
      "\n",
      "\"13,15,3,12,6\"\n",
      "\n",
      "\"6,10,12,13,7\"\n",
      "\n",
      "3,18,22,36,48\"\n",
      "\n",
      "0,18,19,20,24\"\n",
      "\n",
      "\"15,4,5,22,23\"\n",
      "\n",
      "18,26,6,11,13\"\n",
      "\n",
      "16,6,22,15,13\"\n",
      "\n",
      "\"13,12,3,6,23\"\n",
      "\n",
      "\"4,15,23,16,6\"\n",
      "\n",
      "\",\"8,6,10,7,3\"\n",
      "\n",
      "6,11,14,22,24\"\n",
      "\n",
      ",\"3,6,8,11,24\"\n",
      "\n",
      "17,24,13,11,7\"\n",
      "\n",
      ",\"2,7,14,8,12\"\n",
      "\n",
      ">\",\"3,1,5,2,7\"\n",
      "\n",
      "\"8,10,6,22,13\"\n",
      "\n",
      "\"11,4,13,7,20\"\n",
      "\n",
      ",\"6,14,7,24,3\"\n",
      "\n",
      ",\"13,14,8,6,5\"\n",
      "\n",
      ",\"2,7,8,13,15\"\n",
      "\n"
     ]
    }
   ],
   "source": [
    "for i in range(len(contents)):\n",
    "    print(contents[i][-15:])"
   ]
  },
  {
   "cell_type": "code",
   "execution_count": 9,
   "metadata": {
    "collapsed": false
   },
   "outputs": [
    {
     "name": "stdout",
     "output_type": "stream",
     "text": [
      "couldnt parse: ['Analysing energy usage on a city scale using utility smart meters', 'MotionSync: Personal energy analytics through motion sensing and wearable sensing', 'SunSpot: exposing the location of annymous solar powered homes', 'Manual shade control simulation', ' algorithm and impact', 'AURES: A wide band ultrasonic occupancy sensing platform']\n",
      "Paper: # 6  Borda score: 43\n",
      "Paper: # 13  Borda score: 41\n",
      "Paper: # 8  Borda score: 31\n",
      "Paper: # 7  Borda score: 28\n",
      "Paper: # 3  Borda score: 25\n"
     ]
    }
   ],
   "source": [
    "a = contents\n",
    "out = []\n",
    "\n",
    "for l in a:\n",
    "    d = l.split(' </ul>')[1]\n",
    "    nums = d.split('\"')[2]\n",
    "    if len(nums) > 0:\n",
    "        n = nums.split(',')\n",
    "        try:\n",
    "            out.append([int(x) for x in n])\n",
    "        except Exception as e:\n",
    "            print('couldnt parse:', n)\n",
    "\n",
    "\n",
    "#borda count\n",
    "b_score = {}\n",
    "for vote in out:\n",
    "    for i,paper in enumerate(vote):\n",
    "        if not paper in b_score:\n",
    "            b_score[paper] = 0\n",
    "        b_score[paper] += 5 - i\n",
    "\n",
    "#sorting by boarda score\n",
    "scores = [(paper, b_score[paper]) for paper in b_score]\n",
    "scores.sort(key= lambda x: x[1], reverse=True)\n",
    "\n",
    "#print the top 5 papers\n",
    "for paper, b_score in scores[:5]:\n",
    "    print('Paper: #',paper, ' Borda score:', b_score)"
   ]
  },
  {
   "cell_type": "code",
   "execution_count": null,
   "metadata": {
    "collapsed": true
   },
   "outputs": [],
   "source": []
  }
 ],
 "metadata": {
  "anaconda-cloud": {},
  "kernelspec": {
   "display_name": "Python [default]",
   "language": "python",
   "name": "python3"
  },
  "language_info": {
   "codemirror_mode": {
    "name": "ipython",
    "version": 3
   },
   "file_extension": ".py",
   "mimetype": "text/x-python",
   "name": "python",
   "nbconvert_exporter": "python",
   "pygments_lexer": "ipython3",
   "version": "3.5.2"
  }
 },
 "nbformat": 4,
 "nbformat_minor": 0
}
